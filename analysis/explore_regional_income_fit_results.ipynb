{
 "cells": [
  {
   "cell_type": "code",
   "execution_count": 1,
   "metadata": {
    "collapsed": false
   },
   "outputs": [],
   "source": [
    "import os \n",
    "import re\n",
    "import shelve\n",
    "import matplotlib.pyplot as plt\n",
    "import numpy as np\n",
    "\n",
    "%matplotlib inline"
   ]
  },
  {
   "cell_type": "code",
   "execution_count": 16,
   "metadata": {
    "collapsed": false
   },
   "outputs": [],
   "source": [
    "resultsdir = './results/regional_income/'\n",
    "\n",
    "r2_manf = []\n",
    "r2_rettrd = []\n",
    "\n",
    "mae_manf = []\n",
    "mae_rettrd = []\n",
    "\n",
    "for fn in os.listdir(resultsdir):\n",
    "    # if os.path.isfile(fn):\n",
    "    m_manf = re.search('results.*manf.*\\.shelf',fn)\n",
    "    if m_manf:\n",
    "        \n",
    "        shelf = shelve.open(resultsdir+fn, 'r')\n",
    "        args_dict = shelf['args_dict']\n",
    "        shelf.close()\n",
    "        \n",
    "        r2_manf.append(args_dict['full_metrics']['r2'])\n",
    "        mae_manf.append(args_dict['scaled_test_metrics']['mae'])\n",
    "    else:\n",
    "        m_rettrd = re.search('results.*rettrd.*\\.shelf',fn)\n",
    "        if m_rettrd:\n",
    "\n",
    "            shelf = shelve.open(resultsdir+fn, 'r')\n",
    "            args_dict = shelf['args_dict']\n",
    "            shelf.close()\n",
    "            \n",
    "            r2_rettrd.append(args_dict['full_metrics']['r2'])\n",
    "            mae_rettrd.append(args_dict['scaled_test_metrics']['mae'])"
   ]
  },
  {
   "cell_type": "code",
   "execution_count": 3,
   "metadata": {
    "collapsed": false
   },
   "outputs": [
    {
     "data": {
      "image/png": "[encoded data removed]",
      "text/plain": [
       "<matplotlib.figure.Figure at 0x7fe32b8a5c90>"
      ]
     },
     "metadata": {},
     "output_type": "display_data"
    }
   ],
   "source": [
    "fig, ax = plt.subplots(1,2)\n",
    "ax[0].hist(r2_manf, color='green')\n",
    "ax[1].hist(r2_rettrd, color='blue')\n",
    "fig.set_size_inches(15,4)\n",
    "plt.show()"
   ]
  },
  {
   "cell_type": "code",
   "execution_count": 39,
   "metadata": {
    "collapsed": false
   },
   "outputs": [
    {
     "name": "stdout",
     "output_type": "stream",
     "text": [
      "338\n",
      "338\n",
      "\n",
      "[  2.54789635e-04   2.13778961e-04   5.76637475e-04   1.83093695e-03\n",
      "   1.53667374e-01   3.96252631e-04   5.01414207e-05   3.81396250e-04\n",
      "   6.10485836e-03   2.33063787e-04]\n",
      "[  2.54789635e-02   2.13778961e-02   5.76637475e-02   1.83093695e-01\n",
      "   1.53667374e+01   3.96252631e-02   5.01414207e-03   3.81396250e-02\n",
      "   6.10485836e-01   2.33063787e-02]\n"
     ]
    }
   ],
   "source": [
    "mae_manf = np.array(mae_manf)\n",
    "mae_rettrd = np.array(mae_rettrd)\n",
    "\n",
    "print len(mae_manf)\n",
    "mae_manf_perc = mae_manf*100\n",
    "print len(mae_manf_perc)\n",
    "\n",
    "print ''\n",
    "\n",
    "print mae_rettrd[:10]\n",
    "mae_rettrd_perc = mae_rettrd*100\n",
    "print mae_rettrd_perc[:10]"
   ]
  },
  {
   "cell_type": "code",
   "execution_count": 41,
   "metadata": {
    "collapsed": false
   },
   "outputs": [
    {
     "data": {
      "image/png": "[encoded data removed]",
      "text/plain": [
       "<matplotlib.figure.Figure at 0x7fe32b7fa390>"
      ]
     },
     "metadata": {},
     "output_type": "display_data"
    }
   ],
   "source": [
    "fig, ax = plt.subplots(1,2)\n",
    "bins = [np.arange(0,10+.2,.2)]\n",
    "ax[0].hist(mae_manf, color='green', bins=np.logspace(-5, 2, 50))\n",
    "ax[0].set_xscale(\"log\")\n",
    "ax[1].hist(mae_rettrd, color='blue', bins=np.logspace(-5, 2, 50))\n",
    "ax[1].set_xscale(\"log\")\n",
    "fig.set_size_inches(15,4)\n",
    "plt.show()"
   ]
  },
  {
   "cell_type": "code",
   "execution_count": null,
   "metadata": {
    "collapsed": true
   },
   "outputs": [],
   "source": []
  }
 ],
 "metadata": {
  "kernelspec": {
   "display_name": "Python 2",
   "language": "python",
   "name": "python2"
  },
  "language_info": {
   "codemirror_mode": {
    "name": "ipython",
    "version": 2
   },
   "file_extension": ".py",
   "mimetype": "text/x-python",
   "name": "python",
   "nbconvert_exporter": "python",
   "pygments_lexer": "ipython2",
   "version": "2.7.6"
  }
 },
 "nbformat": 4,
 "nbformat_minor": 0
}
