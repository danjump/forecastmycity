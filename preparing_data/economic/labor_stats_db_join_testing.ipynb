{
 "cells": [
  {
   "cell_type": "code",
   "execution_count": 2,
   "metadata": {
    "collapsed": false
   },
   "outputs": [],
   "source": [
    "import pandas as pd\n",
    "from sqlalchemy import create_engine"
   ]
  },
  {
   "cell_type": "code",
   "execution_count": 3,
   "metadata": {
    "collapsed": false
   },
   "outputs": [],
   "source": [
    "engine = create_engine(\"mysql+mysqldb://danielj:@localhost/ecotest\")\n",
    "con = engine.connect()"
   ]
  },
  {
   "cell_type": "code",
   "execution_count": 70,
   "metadata": {
    "collapsed": false
   },
   "outputs": [
    {
     "name": "stdout",
     "output_type": "stream",
     "text": [
      "Table labor_data_00_04 Column info:\n",
      "       Field        Type Null  Key Default Extra\n",
      "0      index  bigint(20)  YES  MUL    None      \n",
      "1  series_id        text  YES         None      \n",
      "2       year  bigint(20)  YES         None      \n",
      "3     period        text  YES         None      \n",
      "4      value      double  YES         None      \n",
      "\n",
      "Table labor_data_05_09 Column info:\n",
      "       Field        Type Null  Key Default Extra\n",
      "0      index  bigint(20)  YES  MUL    None      \n",
      "1  series_id        text  YES         None      \n",
      "2       year  bigint(20)  YES         None      \n",
      "3     period        text  YES         None      \n",
      "4      value        text  YES         None      \n",
      "\n",
      "Table labor_data_10_14 Column info:\n",
      "       Field        Type Null  Key Default Extra\n",
      "0      index  bigint(20)  YES  MUL    None      \n",
      "1  series_id        text  YES         None      \n",
      "2       year  bigint(20)  YES         None      \n",
      "3     period        text  YES         None      \n",
      "4      value      double  YES         None      \n",
      "\n",
      "Table labor_data_15_19 Column info:\n",
      "       Field        Type Null  Key Default Extra\n",
      "0      index  bigint(20)  YES  MUL    None      \n",
      "1  series_id        text  YES         None      \n",
      "2       year  bigint(20)  YES         None      \n",
      "3     period        text  YES         None      \n",
      "4      value      double  YES         None      \n",
      "\n",
      "Table labor_data_90_94 Column info:\n",
      "       Field        Type Null  Key Default Extra\n",
      "0      index  bigint(20)  YES  MUL    None      \n",
      "1  series_id        text  YES         None      \n",
      "2       year  bigint(20)  YES         None      \n",
      "3     period        text  YES         None      \n",
      "4      value      double  YES         None      \n",
      "\n",
      "Table labor_data_95_99 Column info:\n",
      "       Field        Type Null  Key Default Extra\n",
      "0      index  bigint(20)  YES  MUL    None      \n",
      "1  series_id        text  YES         None      \n",
      "2       year  bigint(20)  YES         None      \n",
      "3     period        text  YES         None      \n",
      "4      value      double  YES         None      \n",
      "\n",
      "Table labor_legend_measure Column info:\n",
      "          Field        Type Null  Key Default Extra\n",
      "0         index  bigint(20)  YES  MUL    None      \n",
      "1  measure_code  bigint(20)  YES         None      \n",
      "2  measure_text        text  YES         None      \n",
      "\n",
      "Table labor_legend_period Column info:\n",
      "         Field        Type Null  Key Default Extra\n",
      "0        index  bigint(20)  YES  MUL    None      \n",
      "1       period        text  YES         None      \n",
      "2  period_abbr        text  YES         None      \n",
      "3  period_name        text  YES         None      \n",
      "\n",
      "Table labor_legend_series Column info:\n",
      "             Field        Type Null  Key Default Extra\n",
      "0            index  bigint(20)  YES  MUL    None      \n",
      "1        series_id        text  YES         None      \n",
      "2   area_type_code        text  YES         None      \n",
      "3        area_code        text  YES         None      \n",
      "4     measure_code  bigint(20)  YES         None      \n",
      "5         seasonal        text  YES         None      \n",
      "6         srd_code  bigint(20)  YES         None      \n",
      "7     series_title        text  YES         None      \n",
      "8   footnote_codes        text  YES         None      \n",
      "9       begin_year  bigint(20)  YES         None      \n",
      "10    begin_period        text  YES         None      \n",
      "11        end_year  bigint(20)  YES         None      \n",
      "12      end_period        text  YES         None      \n",
      "\n",
      "Table rgdp Column info:\n",
      "                     Field        Type Null  Key Default Extra\n",
      "0                    index  bigint(20)  YES  MUL    None      \n",
      "1                  GeoFIPS        text  YES         None      \n",
      "2                  GeoName        text  YES         None      \n",
      "3                   Region      double  YES         None      \n",
      "4              ComponentId      double  YES         None      \n",
      "5            ComponentName        text  YES         None      \n",
      "6               IndustryId      double  YES         None      \n",
      "7   IndustryClassification        text  YES         None      \n",
      "8              Description        text  YES         None      \n",
      "9                     2001        text  YES         None      \n",
      "10                    2002        text  YES         None      \n",
      "11                    2003        text  YES         None      \n",
      "12                    2004        text  YES         None      \n",
      "13                    2005        text  YES         None      \n",
      "14                    2006        text  YES         None      \n",
      "15                    2007        text  YES         None      \n",
      "16                    2008        text  YES         None      \n",
      "17                    2009        text  YES         None      \n",
      "18                    2010        text  YES         None      \n",
      "19                    2011        text  YES         None      \n",
      "20                    2012        text  YES         None      \n",
      "21                    2013        text  YES         None      \n",
      "\n",
      "Table rpi Column info:\n",
      "                     Field        Type Null  Key Default Extra\n",
      "0                    index  bigint(20)  YES  MUL    None      \n",
      "1                  GeoFIPS  bigint(20)  YES         None      \n",
      "2                  GeoName        text  YES         None      \n",
      "3                   Region      double  YES         None      \n",
      "4                    Table        text  YES         None      \n",
      "5                 LineCode  bigint(20)  YES         None      \n",
      "6   IndustryClassification        text  YES         None      \n",
      "7              Description        text  YES         None      \n",
      "8                     2008  bigint(20)  YES         None      \n",
      "9                     2009  bigint(20)  YES         None      \n",
      "10                    2010  bigint(20)  YES         None      \n",
      "11                    2011  bigint(20)  YES         None      \n",
      "12                    2012  bigint(20)  YES         None      \n",
      "13                    2013  bigint(20)  YES         None      \n",
      "\n"
     ]
    }
   ],
   "source": [
    "tables_results = con.execute('show tables')\n",
    "tables = tables_results.fetchall()\n",
    "\n",
    "for table in tables:\n",
    "    description_results = con.execute('DESCRIBE %s' % table[0])\n",
    "    description_df = pd.DataFrame(description_results.fetchall(),columns=['Field','Type','Null','Key','Default','Extra'])\n",
    "    print 'Table %s Column info:' % table[0]\n",
    "    print description_df\n",
    "    print ''\n",
    "    "
   ]
  },
  {
   "cell_type": "code",
   "execution_count": 133,
   "metadata": {
    "collapsed": false
   },
   "outputs": [],
   "source": [
    "subquery = 'SELECT ser.*, per.period_name as begin_name '\\\n",
    "           'FROM labor_legend_series AS ser '\\\n",
    "           'INNER JOIN labor_legend_period AS per '\\\n",
    "                   'ON ser.begin_period = per.period'\n",
    "            \n",
    "query='SELECT join1.series_id, join1.begin_name '\\\n",
    "                 'FROM (%s) as join1 ' % subquery\n",
    "\n",
    "df = pd.read_sql(query, con=con.connection)"
   ]
  },
  {
   "cell_type": "code",
   "execution_count": 139,
   "metadata": {
    "collapsed": false
   },
   "outputs": [],
   "source": [
    "subquery = 'SELECT ser.*, per.period_name as begin_name '\\\n",
    "           'FROM labor_legend_series AS ser '\\\n",
    "           'INNER JOIN labor_legend_period AS per '\\\n",
    "                   'ON ser.begin_period = per.period'\n",
    "            \n",
    "query = 'SELECT join1.*, per.period_name as end_period_name '\\\n",
    "        'FROM (%s) as join1 ' %(subquery) +\\\n",
    "        'INNER JOIN labor_legend_period AS per '\\\n",
    "                'ON join1.end_period = per.period'\n",
    "\n",
    "\n",
    "df = pd.read_sql(query , con=con.connection)"
   ]
  },
  {
   "cell_type": "code",
   "execution_count": 127,
   "metadata": {
    "collapsed": false
   },
   "outputs": [],
   "source": []
  },
  {
   "cell_type": "code",
   "execution_count": 138,
   "metadata": {
    "collapsed": false
   },
   "outputs": [
    {
     "name": "stdout",
     "output_type": "stream",
     "text": [
      "Index([u'index', u'series_id', u'area_type_code', u'area_code',\n",
      "       u'measure_code', u'seasonal', u'srd_code', u'series_title',\n",
      "       u'footnote_codes', u'begin_year', u'begin_period', u'end_year',\n",
      "       u'end_period', u'begin_name', u'end_period_name'],\n",
      "      dtype='object')\n"
     ]
    },
    {
     "data": {
      "text/html": [
       "<div>\n",
       "<table border=\"1\" class=\"dataframe\">\n",
       "  <thead>\n",
       "    <tr style=\"text-align: right;\">\n",
       "      <th></th>\n",
       "      <th>index</th>\n",
       "      <th>series_id</th>\n",
       "      <th>area_type_code</th>\n",
       "      <th>area_code</th>\n",
       "      <th>measure_code</th>\n",
       "      <th>seasonal</th>\n",
       "      <th>srd_code</th>\n",
       "      <th>series_title</th>\n",
       "      <th>footnote_codes</th>\n",
       "      <th>begin_year</th>\n",
       "      <th>begin_period</th>\n",
       "      <th>end_year</th>\n",
       "      <th>end_period</th>\n",
       "      <th>begin_name</th>\n",
       "      <th>end_period_name</th>\n",
       "    </tr>\n",
       "  </thead>\n",
       "  <tbody>\n",
       "    <tr>\n",
       "      <th>0</th>\n",
       "      <td>0</td>\n",
       "      <td>LASBS060000000000003</td>\n",
       "      <td>L</td>\n",
       "      <td>BS0600000000000</td>\n",
       "      <td>3</td>\n",
       "      <td>S</td>\n",
       "      <td>6</td>\n",
       "      <td>Unemployment Rate: Balance of California, stat...</td>\n",
       "      <td>None</td>\n",
       "      <td>1976</td>\n",
       "      <td>M01</td>\n",
       "      <td>2015</td>\n",
       "      <td>M07</td>\n",
       "      <td>January</td>\n",
       "      <td>July</td>\n",
       "    </tr>\n",
       "    <tr>\n",
       "      <th>1</th>\n",
       "      <td>1</td>\n",
       "      <td>LASBS060000000000004</td>\n",
       "      <td>L</td>\n",
       "      <td>BS0600000000000</td>\n",
       "      <td>4</td>\n",
       "      <td>S</td>\n",
       "      <td>6</td>\n",
       "      <td>Unemployment: Balance of California, state les...</td>\n",
       "      <td>None</td>\n",
       "      <td>1976</td>\n",
       "      <td>M01</td>\n",
       "      <td>2015</td>\n",
       "      <td>M07</td>\n",
       "      <td>January</td>\n",
       "      <td>July</td>\n",
       "    </tr>\n",
       "    <tr>\n",
       "      <th>2</th>\n",
       "      <td>2</td>\n",
       "      <td>LASBS060000000000005</td>\n",
       "      <td>L</td>\n",
       "      <td>BS0600000000000</td>\n",
       "      <td>5</td>\n",
       "      <td>S</td>\n",
       "      <td>6</td>\n",
       "      <td>Employment: Balance of California, state less ...</td>\n",
       "      <td>None</td>\n",
       "      <td>1976</td>\n",
       "      <td>M01</td>\n",
       "      <td>2015</td>\n",
       "      <td>M07</td>\n",
       "      <td>January</td>\n",
       "      <td>July</td>\n",
       "    </tr>\n",
       "    <tr>\n",
       "      <th>3</th>\n",
       "      <td>3</td>\n",
       "      <td>LASBS060000000000006</td>\n",
       "      <td>L</td>\n",
       "      <td>BS0600000000000</td>\n",
       "      <td>6</td>\n",
       "      <td>S</td>\n",
       "      <td>6</td>\n",
       "      <td>Labor Force: Balance of California, state less...</td>\n",
       "      <td>None</td>\n",
       "      <td>1976</td>\n",
       "      <td>M01</td>\n",
       "      <td>2015</td>\n",
       "      <td>M07</td>\n",
       "      <td>January</td>\n",
       "      <td>July</td>\n",
       "    </tr>\n",
       "    <tr>\n",
       "      <th>4</th>\n",
       "      <td>4</td>\n",
       "      <td>LASBS120000000000003</td>\n",
       "      <td>L</td>\n",
       "      <td>BS1200000000000</td>\n",
       "      <td>3</td>\n",
       "      <td>S</td>\n",
       "      <td>12</td>\n",
       "      <td>Unemployment Rate: Balance of Florida, state l...</td>\n",
       "      <td>None</td>\n",
       "      <td>1990</td>\n",
       "      <td>M01</td>\n",
       "      <td>2015</td>\n",
       "      <td>M07</td>\n",
       "      <td>January</td>\n",
       "      <td>July</td>\n",
       "    </tr>\n",
       "  </tbody>\n",
       "</table>\n",
       "</div>"
      ],
      "text/plain": [
       "   index             series_id area_type_code        area_code  measure_code  \\\n",
       "0      0  LASBS060000000000003              L  BS0600000000000             3   \n",
       "1      1  LASBS060000000000004              L  BS0600000000000             4   \n",
       "2      2  LASBS060000000000005              L  BS0600000000000             5   \n",
       "3      3  LASBS060000000000006              L  BS0600000000000             6   \n",
       "4      4  LASBS120000000000003              L  BS1200000000000             3   \n",
       "\n",
       "  seasonal  srd_code                                       series_title  \\\n",
       "0        S         6  Unemployment Rate: Balance of California, stat...   \n",
       "1        S         6  Unemployment: Balance of California, state les...   \n",
       "2        S         6  Employment: Balance of California, state less ...   \n",
       "3        S         6  Labor Force: Balance of California, state less...   \n",
       "4        S        12  Unemployment Rate: Balance of Florida, state l...   \n",
       "\n",
       "  footnote_codes  begin_year begin_period  end_year end_period begin_name  \\\n",
       "0           None        1976          M01      2015        M07    January   \n",
       "1           None        1976          M01      2015        M07    January   \n",
       "2           None        1976          M01      2015        M07    January   \n",
       "3           None        1976          M01      2015        M07    January   \n",
       "4           None        1990          M01      2015        M07    January   \n",
       "\n",
       "  end_period_name  \n",
       "0            July  \n",
       "1            July  \n",
       "2            July  \n",
       "3            July  \n",
       "4            July  "
      ]
     },
     "execution_count": 138,
     "metadata": {},
     "output_type": "execute_result"
    }
   ],
   "source": [
    "print df.columns\n",
    "df.head()"
   ]
  },
  {
   "cell_type": "code",
   "execution_count": 18,
   "metadata": {
    "collapsed": false
   },
   "outputs": [
    {
     "name": "stdout",
     "output_type": "stream",
     "text": [
      "('test', 'test', 'test', 'test', 'test')\n"
     ]
    }
   ],
   "source": [
    "name = 'test'\n",
    "print tuple(name for i in range (5))"
   ]
  },
  {
   "cell_type": "code",
   "execution_count": 48,
   "metadata": {
    "collapsed": false
   },
   "outputs": [
    {
     "name": "stdout",
     "output_type": "stream",
     "text": [
      "Index([u'series_id', u'area_type_code', u'area_code', u'measure_code',\n",
      "       u'seasonal', u'srd_code', u'series_title', u'begin_year',\n",
      "       u'begin_period', u'begin_month', u'end_year', u'end_period',\n",
      "       u'end_month'],\n",
      "      dtype='object')\n",
      "33176\n"
     ]
    }
   ],
   "source": [
    "'''\n",
    "dat.series_id\n",
    "dat.year\n",
    "dat.period\n",
    "dat.value\n",
    "\n",
    "ser.series_id\n",
    "ser.area_type_code\n",
    "ser.area_code\n",
    "ser.measure_code\n",
    "ser.seasonal\n",
    "ser.srd_code\n",
    "ser.series_title\n",
    "ser.begin_year\n",
    "ser.begin_period\n",
    "ser.end_year\n",
    "ser.end_period\n",
    "\n",
    "per.period\n",
    "per.period_abbr\n",
    "per.period_name\n",
    "     \n",
    "meas.measure_code\n",
    "meas.measure_text\n",
    "'''\n",
    "\n",
    "\n",
    "#join period variables in \n",
    "ser_per_subjoin1 =  'SELECT ser.*, per.period_name as begin_month '\\\n",
    "                   'FROM labor_legend_series AS ser '\\\n",
    "                   'LEFT OUTER JOIN labor_legend_period AS per '\\\n",
    "                           'ON ser.begin_period = per.period'\n",
    "            \n",
    "ser_per_subjoin2 =  'SELECT join1.*, per.period_name as end_month '\\\n",
    "                'FROM (%s) as join1 ' %(ser_per_subjoin1) +\\\n",
    "                'LEFT OUTER JOIN labor_legend_period AS per '\\\n",
    "                        'ON join1.end_period = per.period'\n",
    "\n",
    "ser_per_name = 'ser_per_join'\n",
    "ser_per_variables = '%s.series_id, %s.area_type_code, %s.area_code, %s.measure_code, %s.seasonal, ' %tuple(ser_per_name for i in range(5))+\\\n",
    "            '%s.srd_code, %s.series_title, %s.begin_year, %s.begin_period, %s.begin_month, %s.end_year, %s.end_period, %s.end_month' %tuple(ser_per_name for i in range(8))\n",
    "\n",
    "\n",
    "\n",
    "ser_per_join = 'SELECT %s ' %(ser_per_variables) +\\\n",
    "        'FROM (%s) as %s' %(ser_per_subjoin2,ser_per_name)\n",
    "\n",
    "\n",
    "df = pd.read_sql(ser_per_join , con=con.connection)\n",
    "print df.columns\n",
    "print len(df)"
   ]
  },
  {
   "cell_type": "code",
   "execution_count": 47,
   "metadata": {
    "collapsed": false
   },
   "outputs": [
    {
     "name": "stdout",
     "output_type": "stream",
     "text": [
      "Index([u'series_id', u'area_type_code', u'area_code', u'measure_text',\n",
      "       u'seasonal', u'srd_code', u'series_title', u'begin_year',\n",
      "       u'begin_period', u'begin_month', u'end_year', u'end_period',\n",
      "       u'end_month'],\n",
      "      dtype='object')\n"
     ]
    },
    {
     "data": {
      "text/plain": [
       "33176"
      ]
     },
     "execution_count": 47,
     "metadata": {},
     "output_type": "execute_result"
    }
   ],
   "source": [
    "serper_meas_subjoin = 'SELECT serper.*, meas.measure_text '\\\n",
    "                       'FROM (%s) AS serper ' %(ser_per_join) +\\\n",
    "                       'LEFT OUTER JOIN labor_legend_measure AS meas '\\\n",
    "                                   'ON serper.measure_code = meas.measure_code'\n",
    "serper_meas_name = 'serper_meas_join'\n",
    "serper_meas_variables = '%s.series_id, %s.area_type_code, %s.area_code, %s.measure_text, %s.seasonal, ' %tuple(serper_meas_name for i in range(5))+\\\n",
    "            '%s.srd_code, %s.series_title, %s.begin_year, %s.begin_period, %s.begin_month, %s.end_year, %s.end_period, %s.end_month' %tuple(serper_meas_name for i in range(8))\n",
    "\n",
    "serper_meas_join = 'SELECT %s ' %(serper_meas_variables) +\\\n",
    "        'FROM (%s) as %s' %(serper_meas_subjoin,serper_meas_name)\n",
    "        \n",
    "\n",
    "df = pd.read_sql(serper_meas_join , con=con.connection)\n",
    "print df.columns\n",
    "len(df)"
   ]
  },
  {
   "cell_type": "code",
   "execution_count": null,
   "metadata": {
    "collapsed": true
   },
   "outputs": [],
   "source": [
    "data_join = 'SELECT data.year, data.period, data.value, serpermeas.* '\\\n",
    "            'FROM labor_data_10_14 AS data '\\\n",
    "            'LEFT OUTER JOIN (%s) AS serpermeas ' %(serper_meas_join)+\\\n",
    "                         'ON data.series_id = serpermeas.series_id'\n",
    "            \n",
    "df = pd.read_sql(data_join , con=con.connection)\n",
    "print df.columns\n",
    "len(df)"
   ]
  }
 ],
 "metadata": {
  "kernelspec": {
   "display_name": "Python 2",
   "language": "python",
   "name": "python2"
  },
  "language_info": {
   "codemirror_mode": {
    "name": "ipython",
    "version": 2
   },
   "file_extension": ".py",
   "mimetype": "text/x-python",
   "name": "python",
   "nbconvert_exporter": "python",
   "pygments_lexer": "ipython2",
   "version": "2.7.6"
  }
 },
 "nbformat": 4,
 "nbformat_minor": 0
}
